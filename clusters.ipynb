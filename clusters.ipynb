{
  "nbformat": 4,
  "nbformat_minor": 0,
  "metadata": {
    "colab": {
      "name": "clusters.ipynb",
      "provenance": [],
      "collapsed_sections": []
    },
    "kernelspec": {
      "name": "python3",
      "display_name": "Python 3"
    }
  },
  "cells": [
    {
      "cell_type": "code",
      "metadata": {
        "id": "GRbudNpGFmNE",
        "colab_type": "code",
        "colab": {
          "base_uri": "https://localhost:8080/",
          "height": 34
        },
        "outputId": "b91a545e-39a1-4443-f4ec-5e8ea24d643b"
      },
      "source": [
        "from google.colab import drive\n",
        "drive.mount('/content/drive')"
      ],
      "execution_count": 1,
      "outputs": [
        {
          "output_type": "stream",
          "text": [
            "Drive already mounted at /content/drive; to attempt to forcibly remount, call drive.mount(\"/content/drive\", force_remount=True).\n"
          ],
          "name": "stdout"
        }
      ]
    },
    {
      "cell_type": "code",
      "metadata": {
        "id": "eH7PU6cZFsFQ",
        "colab_type": "code",
        "colab": {}
      },
      "source": [
        "import numpy as np\n",
        "import pandas as pd\n",
        "import matplotlib.pyplot as plt\n",
        "%matplotlib inline"
      ],
      "execution_count": 2,
      "outputs": []
    },
    {
      "cell_type": "code",
      "metadata": {
        "id": "S9B8T6u6MF4g",
        "colab_type": "code",
        "colab": {}
      },
      "source": [
        "p = np.linspace(0.1, 0.98, 45)\n",
        "# количество разбиений\n",
        "G = 10\n",
        "# количество генераций в каждом разбиении\n",
        "N = 100"
      ],
      "execution_count": 3,
      "outputs": []
    },
    {
      "cell_type": "code",
      "metadata": {
        "id": "IRojb9Dlsa57",
        "colab_type": "code",
        "colab": {}
      },
      "source": [
        "dist = [] # список, который будет хранить размеры кластеров для разных значений концентраций\n",
        "ph = []\n",
        "pv = []\n",
        "phv = []\n",
        "\n",
        "# парсим файл с результатами\n",
        "f = open(\"/content/drive/My Drive/test2.txt\")\n",
        "for i in range(45):\n",
        "    f.readline()\n",
        "    ph_tmp = []\n",
        "    pv_tmp = []\n",
        "    phv_tmp = []\n",
        "    for j in range(G):\n",
        "        for i in range(N):\n",
        "            tmp = []\n",
        "            t = f.readline().split()\n",
        "            tmp.append([int(x) for x in t])\n",
        "        dist.append(tmp)\n",
        "        t = [float(x) for x in f.readline().split()]\n",
        "        ph_tmp.append(t[0])\n",
        "        pv_tmp.append(t[1])\n",
        "        phv_tmp.append(t[2])\n",
        "    ph.append(ph_tmp)\n",
        "    pv.append(pv_tmp)\n",
        "    phv.append(phv_tmp)"
      ],
      "execution_count": 4,
      "outputs": []
    },
    {
      "cell_type": "code",
      "metadata": {
        "id": "2FlJFC5piJGV",
        "colab_type": "code",
        "colab": {
          "base_uri": "https://localhost:8080/",
          "height": 450
        },
        "outputId": "a297d4e7-7273-4dda-cecf-2a71c411a038"
      },
      "source": [
        "plt.hist(dist[25], bins='sqrt') # пример распределения \n",
        "#dist[25]"
      ],
      "execution_count": 5,
      "outputs": [
        {
          "output_type": "execute_result",
          "data": {
            "text/plain": [
              "(array([ 23.,   0.,   0.,   0., 825.,   0.,   0.,   0., 157.,   0.,   0.,\n",
              "          0.,  42.,   0.,   0.,   0.,  18.,   0.,   0.,   0.,   6.,   0.,\n",
              "          0.,   0.,   2.,   0.,   0.,   0.,   4.,   0.,   0.,   0.,   1.]),\n",
              " array([0.        , 0.24242424, 0.48484848, 0.72727273, 0.96969697,\n",
              "        1.21212121, 1.45454545, 1.6969697 , 1.93939394, 2.18181818,\n",
              "        2.42424242, 2.66666667, 2.90909091, 3.15151515, 3.39393939,\n",
              "        3.63636364, 3.87878788, 4.12121212, 4.36363636, 4.60606061,\n",
              "        4.84848485, 5.09090909, 5.33333333, 5.57575758, 5.81818182,\n",
              "        6.06060606, 6.3030303 , 6.54545455, 6.78787879, 7.03030303,\n",
              "        7.27272727, 7.51515152, 7.75757576, 8.        ]),\n",
              " <a list of 33 Patch objects>)"
            ]
          },
          "metadata": {
            "tags": []
          },
          "execution_count": 5
        },
        {
          "output_type": "display_data",
          "data": {
            "image/png": "[encoded data removed]",
            "text/plain": [
              "<Figure size 432x288 with 1 Axes>"
            ]
          },
          "metadata": {
            "tags": [],
            "needs_background": "light"
          }
        }
      ]
    },
    {
      "cell_type": "code",
      "metadata": {
        "id": "axe358UhlNtk",
        "colab_type": "code",
        "colab": {}
      },
      "source": [
        "ph_mean = np.array(ph).mean(axis=1)\n",
        "pv_mean = np.array(pv).mean(axis=1)\n",
        "phv_mean = np.array(phv).mean(axis=1)\n",
        "\n",
        "ph_max = np.array(ph).max(axis=1)\n",
        "pv_max = np.array(pv).max(axis=1)\n",
        "phv_max = np.array(phv).max(axis=1)\n",
        "\n",
        "ph_min = np.array(ph).min(axis=1)\n",
        "pv_min = np.array(pv).min(axis=1)\n",
        "phv_min = np.array(phv).min(axis=1)"
      ],
      "execution_count": 6,
      "outputs": []
    },
    {
      "cell_type": "code",
      "metadata": {
        "id": "BkpedMNqowtW",
        "colab_type": "code",
        "colab": {
          "base_uri": "https://localhost:8080/",
          "height": 282
        },
        "outputId": "f822603a-00f0-4026-b34b-568c1fe0c87d"
      },
      "source": [
        "# Зависимость вероятности протекания по горизонтали от концентрации\n",
        "plt.scatter(p, ph_mean, s=10)\n",
        "plt.errorbar(p, ph_mean, ph_max - ph_mean, lolims=True, ecolor='red', alpha=0.5, capsize=2)\n",
        "plt.errorbar(p, ph_mean, ph_mean - ph_min, uplims=True, ecolor='red', alpha=0.5, capsize=2)"
      ],
      "execution_count": 7,
      "outputs": [
        {
          "output_type": "execute_result",
          "data": {
            "text/plain": [
              "<ErrorbarContainer object of 3 artists>"
            ]
          },
          "metadata": {
            "tags": []
          },
          "execution_count": 7
        },
        {
          "output_type": "display_data",
          "data": {
            "image/png": "[encoded data removed]",
            "text/plain": [
              "<Figure size 432x288 with 1 Axes>"
            ]
          },
          "metadata": {
            "tags": [],
            "needs_background": "light"
          }
        }
      ]
    },
    {
      "cell_type": "code",
      "metadata": {
        "id": "RDGSPJdpo0os",
        "colab_type": "code",
        "colab": {
          "base_uri": "https://localhost:8080/",
          "height": 282
        },
        "outputId": "97929196-fecd-4297-f071-da6793f2c1a5"
      },
      "source": [
        "# Зависимость вероятности протекания по вертикали от концентрации\n",
        "plt.scatter(p, pv_mean, s=10)\n",
        "plt.errorbar(p, pv_mean, pv_max - pv_mean, lolims=True, ecolor='red', alpha=0.5, capsize=2)\n",
        "plt.errorbar(p, pv_mean, pv_mean - pv_min, uplims=True, ecolor='red', alpha=0.5, capsize=2)"
      ],
      "execution_count": 8,
      "outputs": [
        {
          "output_type": "execute_result",
          "data": {
            "text/plain": [
              "<ErrorbarContainer object of 3 artists>"
            ]
          },
          "metadata": {
            "tags": []
          },
          "execution_count": 8
        },
        {
          "output_type": "display_data",
          "data": {
            "image/png": "[encoded data removed]",
            "text/plain": [
              "<Figure size 432x288 with 1 Axes>"
            ]
          },
          "metadata": {
            "tags": [],
            "needs_background": "light"
          }
        }
      ]
    },
    {
      "cell_type": "code",
      "metadata": {
        "id": "9-zAtAqSo2l1",
        "colab_type": "code",
        "colab": {
          "base_uri": "https://localhost:8080/",
          "height": 282
        },
        "outputId": "b6d993c6-8aed-4732-ba32-81cc52672d9d"
      },
      "source": [
        "# Зависимость вероятности протекания по обоим направлениям от концентрации\n",
        "plt.scatter(p, phv_mean, s=10)\n",
        "plt.errorbar(p, phv_mean, phv_max - phv_mean, lolims=True, ecolor='red', alpha=0.5, capsize=2)\n",
        "plt.errorbar(p, phv_mean, phv_mean - phv_min, uplims=True, ecolor='red', alpha=0.5, capsize=2)"
      ],
      "execution_count": 9,
      "outputs": [
        {
          "output_type": "execute_result",
          "data": {
            "text/plain": [
              "<ErrorbarContainer object of 3 artists>"
            ]
          },
          "metadata": {
            "tags": []
          },
          "execution_count": 9
        },
        {
          "output_type": "display_data",
          "data": {
            "image/png": "[encoded data removed]",
            "text/plain": [
              "<Figure size 432x288 with 1 Axes>"
            ]
          },
          "metadata": {
            "tags": [],
            "needs_background": "light"
          }
        }
      ]
    },
    {
      "cell_type": "code",
      "metadata": {
        "id": "XtrerFf-62AP",
        "colab_type": "code",
        "colab": {}
      },
      "source": [
        ""
      ],
      "execution_count": null,
      "outputs": []
    }
  ]
}